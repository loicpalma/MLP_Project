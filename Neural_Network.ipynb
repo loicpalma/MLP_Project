{
 "cells": [
  {
   "cell_type": "markdown",
   "metadata": {},
   "source": [
    "### Information on our system"
   ]
  },
  {
   "cell_type": "code",
   "execution_count": 1,
   "metadata": {},
   "outputs": [
    {
     "name": "stdout",
     "output_type": "stream",
     "text": [
      "3.7.7 (tags/v3.7.7:d7c567b08f, Mar 10 2020, 10:41:24) [MSC v.1900 64 bit (AMD64)]\n"
     ]
    }
   ],
   "source": [
    "import sys\n",
    "import os\n",
    "\n",
    "import warnings\n",
    "warnings.filterwarnings('ignore')\n",
    "\n",
    "print(sys.version)"
   ]
  },
  {
   "cell_type": "markdown",
   "metadata": {},
   "source": [
    "### Installing requirements to download packages "
   ]
  },
  {
   "cell_type": "code",
   "execution_count": 2,
   "metadata": {
    "scrolled": true
   },
   "outputs": [
    {
     "name": "stderr",
     "output_type": "stream",
     "text": [
      "ERROR: Could not open requirements file: [Errno 2] No such file or directory: 'requirements.txt;'\n",
      "WARNING: You are using pip version 19.2.3, however version 20.0.2 is available.\n",
      "You should consider upgrading via the 'python -m pip install --upgrade pip' command.\n"
     ]
    }
   ],
   "source": [
    "!pip install -r requirements.txt;"
   ]
  },
  {
   "cell_type": "markdown",
   "metadata": {},
   "source": [
    "### Reproductible Results"
   ]
  },
  {
   "cell_type": "code",
   "execution_count": 3,
   "metadata": {},
   "outputs": [],
   "source": [
    "from numpy.random import seed\n",
    "seed(1337)"
   ]
  },
  {
   "cell_type": "markdown",
   "metadata": {},
   "source": [
    "### Import necessited packages"
   ]
  },
  {
   "cell_type": "code",
   "execution_count": 4,
   "metadata": {},
   "outputs": [
    {
     "name": "stderr",
     "output_type": "stream",
     "text": [
      "Using TensorFlow backend.\n"
     ]
    }
   ],
   "source": [
    "import numpy as np\n",
    "import pandas as pd\n",
    "\n",
    "import seaborn as sns\n",
    "import matplotlib.pyplot as plt\n",
    "\n",
    "from sklearn.model_selection import train_test_split\n",
    "from sklearn.preprocessing import StandardScaler\n",
    "from sklearn.model_selection import KFold\n",
    "from sklearn import metrics\n",
    "from sklearn.metrics import classification_report, confusion_matrix \n",
    "from sklearn.metrics import accuracy_score, f1_score, recall_score, precision_score\n",
    "from sklearn.model_selection import GridSearchCV\n",
    "from sklearn.ensemble import RandomForestClassifier\n",
    "from sklearn.linear_model import LogisticRegression\n",
    "from sklearn.tree import DecisionTreeClassifier\n",
    "from sklearn.svm import SVC\n",
    "\n",
    "from mpl_toolkits.mplot3d import Axes3D\n",
    "\n",
    "import numpy as np\n",
    "import matplotlib.pyplot as plt\n",
    "import pandas as pd\n",
    "import keras\n",
    "import keras\n",
    "\n",
    "from keras.models import Model\n",
    "from keras.models import Sequential\n",
    "from keras.layers import LSTM, Activation, Dense, Dropout, Input, Embedding, Flatten\n",
    "from keras.optimizers import RMSprop\n",
    "from keras.preprocessing.text import Tokenizer\n",
    "from keras.preprocessing import sequence\n",
    "from keras.utils import to_categorical\n",
    "from keras.callbacks import EarlyStopping\n",
    "from keras.preprocessing.sequence import pad_sequences\n",
    "\n",
    "from keras.callbacks import TensorBoard\n",
    "from keras import backend as K\n",
    "\n",
    "import xgboost as xgb\n",
    "from xgboost import XGBClassifier\n",
    "\n",
    "%matplotlib inline"
   ]
  },
  {
   "cell_type": "markdown",
   "metadata": {},
   "source": [
    "### Path"
   ]
  },
  {
   "cell_type": "code",
   "execution_count": 5,
   "metadata": {},
   "outputs": [],
   "source": [
    "path = r'~/Desktop/MLP_Project/'"
   ]
  },
  {
   "cell_type": "code",
   "execution_count": 6,
   "metadata": {},
   "outputs": [],
   "source": [
    "# For the Pre-Process\n",
    "test_size = 0.30"
   ]
  },
  {
   "cell_type": "markdown",
   "metadata": {},
   "source": [
    "### Functions \n",
    "#### Plots"
   ]
  },
  {
   "cell_type": "code",
   "execution_count": 7,
   "metadata": {},
   "outputs": [],
   "source": [
    "def acc_loss(nn_it):\n",
    "    plt.style.use('ggplot')\n",
    "    \n",
    "    acc = nn_it.history['acc']\n",
    "    val_acc = nn_it.history['val_acc']\n",
    "    loss = nn_it.history['loss']\n",
    "    val_loss = nn_it.history['val_loss']\n",
    "    x = range(1, len(acc) + 1)\n",
    "\n",
    "    plt.figure(figsize=(12, 5))\n",
    "    plt.subplot(1, 2, 1)\n",
    "    plt.plot(x, acc, 'b', label='Training acc')\n",
    "    plt.plot(x, val_acc, 'r', label='Validation acc')\n",
    "    plt.title('Training and validation accuracy')\n",
    "    plt.legend()\n",
    "    plt.subplot(1, 2, 2)\n",
    "    plt.plot(x, loss, 'b', label='Training loss')\n",
    "    plt.plot(x, val_loss, 'r', label='Validation loss')\n",
    "    plt.title('Training and validation loss')\n",
    "    plt.legend()\n",
    "\n",
    "def check_stratify(y_train, y_test):\n",
    "    if np.count_nonzero(y_test)/len(y_test) == np.count_nonzero(y_train)/len(y_train):\n",
    "        print(\"We are good to go ! train_test_split well stratified: {} for y_test and {} for y_train\".format(np.count_nonzero(y_test)/len(y_test), np.count_nonzero(y_train)/len(y_train)))\n",
    "    else:\n",
    "        print(\"train_test_split not well stratified: {} for y_test and {} for y_train\".format(np.count_nonzero(y_test)/len(y_test), np.count_nonzero(y_train)/len(y_train)))"
   ]
  },
  {
   "cell_type": "markdown",
   "metadata": {},
   "source": [
    "#### Metrics"
   ]
  },
  {
   "cell_type": "code",
   "execution_count": 8,
   "metadata": {},
   "outputs": [],
   "source": [
    "def recall_m(y_true, y_pred):\n",
    "    true_positives = K.sum(K.round(K.clip(y_true * y_pred, 0, 1)))\n",
    "    possible_positives = K.sum(K.round(K.clip(y_true, 0, 1)))\n",
    "    recall = true_positives / (possible_positives + K.epsilon())\n",
    "    return recall\n",
    "\n",
    "def precision_m(y_true, y_pred):\n",
    "    true_positives = K.sum(K.round(K.clip(y_true * y_pred, 0, 1)))\n",
    "    predicted_positives = K.sum(K.round(K.clip(y_pred, 0, 1)))\n",
    "    precision = true_positives / (predicted_positives + K.epsilon())\n",
    "    return precision\n",
    "\n",
    "def f1_m(y_true, y_pred):\n",
    "    precision = precision_m(y_true, y_pred)\n",
    "    recall = recall_m(y_true, y_pred)\n",
    "    return 2*((precision*recall)/(precision+recall+K.epsilon()))"
   ]
  },
  {
   "cell_type": "markdown",
   "metadata": {},
   "source": [
    "### Pre-Process"
   ]
  },
  {
   "cell_type": "code",
   "execution_count": 9,
   "metadata": {
    "scrolled": true
   },
   "outputs": [
    {
     "name": "stdout",
     "output_type": "stream",
     "text": [
      "Training Features Shape: (700, 61)\n",
      "Training Target Shape: (700,)\n",
      "Testing Features Shape: (300, 61)\n",
      "Testing Target Shape: (300,)\n"
     ]
    }
   ],
   "source": [
    "df = pd.read_csv(os.path.join(path,\"credit_scoring.csv\"))\n",
    "\n",
    "\n",
    "df = df.rename(columns = {'Unnamed: 0':'Client_ID'})\n",
    "df = df.drop(columns = ['Client_ID'])\n",
    "df.loc[df.Cible == 1, 'Cible'] = 0\n",
    "df.loc[df.Cible == 2, 'Cible'] = 1\n",
    "\n",
    "for col in ['Comptes', 'Historique_credit', 'Objet_credit', 'Epargne', 'Anciennete_emploi', 'Situation_familiale', 'Garanties', 'Biens', 'Autres_credits', 'Statut_domicile', 'Type_emploi', 'Telephone', 'Etranger']:\n",
    "    df[col] = df[col].astype('category')\n",
    "    \n",
    "labels = df['Cible'].values\n",
    "features = pd.get_dummies(df)\n",
    "features = features.drop(columns = ['Cible'])\n",
    "features_list = list(features.columns)\n",
    "\n",
    "features = np.array(features)\n",
    "labels = np.array(labels)\n",
    "\n",
    "X_train, X_test, y_train, y_test = train_test_split(\n",
    "    features, labels, test_size=test_size, random_state=1337, stratify = labels)\n",
    "\n",
    "scaler = StandardScaler()  \n",
    "scaler.fit(X_train)\n",
    "X_train = scaler.transform(X_train)  \n",
    "X_test = scaler.transform(X_test)\n",
    "\n",
    "print('Training Features Shape:', X_train.shape)\n",
    "print('Training Target Shape:', y_train.shape)\n",
    "print('Testing Features Shape:', X_test.shape)\n",
    "print('Testing Target Shape:', y_test.shape)"
   ]
  },
  {
   "cell_type": "markdown",
   "metadata": {},
   "source": [
    "The idea here is to check if the split between the train and test set is indeed stratified"
   ]
  },
  {
   "cell_type": "code",
   "execution_count": 10,
   "metadata": {},
   "outputs": [
    {
     "name": "stdout",
     "output_type": "stream",
     "text": [
      "We are good to go ! train_test_split well stratified: 0.3 for y_test and 0.3 for y_train\n"
     ]
    }
   ],
   "source": [
    "check_stratify(y_train, y_test)"
   ]
  },
  {
   "cell_type": "markdown",
   "metadata": {},
   "source": [
    "# Multi-Layers Perceptron"
   ]
  },
  {
   "cell_type": "markdown",
   "metadata": {},
   "source": [
    "### Using Keras\n",
    "\n",
    "The idea is to create a Multi-Layers Perceptron using Keras.  \n",
    "Keras is a simple tool for constructing a neural network. It is a high-level framework based on **tensorflow**, **theano** or **cntk** backends.  \n",
    "**Sequential** specifies to keras that we are creating model sequentially and the output of each layer we add is input to the next layer we specify.  \n",
    "**model.add** is used to add a layer to our neural network. We need to specify as an argument what type of layer we want. The **Dense** is used to specify the fully connected layer.  \n",
    "For example in the code below we have:\n",
    "* An input layer which dimensions **equals to the number of features** we have after one hot encoding (input_dim = 61),\n",
    "* 1-th hidden layer that has **256** hidden neurons, with a **rectified linear unit** (ReLU) as activation function,\n",
    "* An output layer with **1** hidden neurons, with a sigmoid as activation function.  \n",
    "\n",
    "Parameters:\n",
    "* ```units```: The units are the most basic parameter to understand. This parameter is a positive integer that denotes the **output size of the layer**.\n",
    "* ```kernal_initializer```: The neural network needs to start with some weights and then iteratively update them to better values. The term kernel_initializer is a fancy term for **which statistical distribution or function to use** for initialising the weights. In case of statistical distribution, the library will generate numbers from that statistical distribution and use as starting weights. Hence, numbers are going to be generated from a **Uniform** distribution.\n",
    "* ```activation```: Activation function to use. If you don't specify anything, no activation is applied (ie. \"linear\" activation: $a(x) = x$). Common activation functions are : **Sigmoid**, **reLu**, **tanH**, **Leaky reLu** and so on.."
   ]
  },
  {
   "cell_type": "markdown",
   "metadata": {},
   "source": [
    "#### Parameters for Keras"
   ]
  },
  {
   "cell_type": "code",
   "execution_count": 21,
   "metadata": {},
   "outputs": [],
   "source": [
    "input_dim = X_train.shape[1] # Number of features"
   ]
  },
  {
   "cell_type": "markdown",
   "metadata": {},
   "source": [
    "#### Model"
   ]
  },
  {
   "cell_type": "code",
   "execution_count": 17,
   "metadata": {
    "scrolled": true
   },
   "outputs": [],
   "source": [
    "def Keras_Simple_Model():\n",
    "    inputs = Input(name='inputs', shape=[input_dim])\n",
    "    layer = Dense(units = 256,\n",
    "                  kernel_initializer = 'uniform',\n",
    "                  activation = 'relu',\n",
    "                  input_dim = input_dim)(inputs)\n",
    "    layer = Dense(1, activation='sigmoid')(layer)\n",
    "    model = Model(inputs = inputs, outputs = layer)\n",
    "    return model"
   ]
  },
  {
   "cell_type": "markdown",
   "metadata": {},
   "source": [
    "We instantiate our first Keras model to make **classifier**. \n",
    "We then compile our model using the following argument:\n",
    "* ```loss = 'binary_crossentropy'``` : As part of the optimization algorithm, the error for the current state of the model must be estimated repeatedly. This requires the **choice of an error function**, conventionally called a loss function, that can be used to estimate the loss of the model so that the weights can be updated to reduce the loss on the next evaluation. As we are dealing with a **classification problem**, binary_crossentropy is the function we want to choose.\n",
    "* ```optimizer = 'adam'```: It seems the [Adaptive Moment Estimation (Adam)](https://ruder.io/optimizing-gradient-descent/) optimizer **nearly always works better** (faster and more reliably reaching a global minimum) when minimising the cost function in training neural nets. This is why we will not even bother trying another one.\n",
    "* ```metrics = 'acc'```: Obviously we want to maximize accuracy."
   ]
  },
  {
   "cell_type": "code",
   "execution_count": 20,
   "metadata": {
    "scrolled": true
   },
   "outputs": [
    {
     "name": "stdout",
     "output_type": "stream",
     "text": [
      "WARNING:tensorflow:From c:\\users\\user\\appdata\\local\\programs\\python\\python37\\lib\\site-packages\\tensorflow\\python\\ops\\nn_impl.py:180: add_dispatch_support.<locals>.wrapper (from tensorflow.python.ops.array_ops) is deprecated and will be removed in a future version.\n",
      "Instructions for updating:\n",
      "Use tf.where in 2.0, which has the same broadcast rule as np.where\n"
     ]
    }
   ],
   "source": [
    "classifier = Keras_Simple_Model()\n",
    "classifier.compile(loss = 'binary_crossentropy',\n",
    "                   optimizer = 'adam',\n",
    "                   metrics = ['mse', 'acc'])"
   ]
  },
  {
   "cell_type": "markdown",
   "metadata": {},
   "source": [
    "It is about time to fit our model:\n",
    "* ```validation_data = (X_train, X_test)```: arbitrary choice of a validation set.\n",
    "* ```batch_size = 32```: The batch size is a hyperparameter that defines the **number of samples** to work through before updating the internal model parameters. Think of a batch as a for-loop iterating over one or more samples and making predictions. At the end of the batch, the **predictions are compared to the expected output variables and an error is calculated**. From this error, the update algorithm is used to improve the model, e.g. move down along the error gradient. In the case of mini-batch gradient descent, popular batch sizes include 32, 64, and 128 samples. You may see these values used in models in the literature and in tutorials.\n",
    "* ```epochs = 20```: The number of epochs is a hyperparameter that defines the **number times** that the learning algorithm will work through the entire training dataset. One epoch means that each sample in the training dataset has had an opportunity to update the internal model parameters. An epoch is comprised of one or more batches. For example, as above, an epoch that has one batch is called the batch gradient descent learning algorithm. You can think of a for-loop over the number of epochs where each loop proceeds over the training dataset. Within this for-loop is another nested for-loop that iterates over each batch of samples, where one batch has the specified “batch size” number of samples. In our case, **epoch does not really matter as we use early stopping**.\n",
    "* ```EarlyStopping```: Stop training when a **monitored quantity has stopped improving** (in our case Validation Loss). Here the monitored quantity is validation loss in order to avoid overfitting. **min_delta** correspond to minimum change in the monitored quantity to qualify as an improvement, i.e. an absolute change of less than min_delta, will count as no improvement."
   ]
  },
  {
   "cell_type": "markdown",
   "metadata": {},
   "source": [
    "# The Neural Network Architecture\n",
    "\n",
    "Every single Neural Network has three types of layers: **input**, **hidden**, and **output**."
   ]
  },
  {
   "cell_type": "markdown",
   "metadata": {},
   "source": [
    "#### How to calculate the Input Layer size?\n",
    "\n",
    "With respect to the number of neurons comprising this layer, this parameter is **uniquely determined** once you know the shape of your training data. Specifically, the number of neurons comprising that layer is equal to the **number of features** in your data. That is why in our code we have ```shape=[input_dim]``` with ``` input_dim = X_train.shape[1] ```"
   ]
  },
  {
   "cell_type": "markdown",
   "metadata": {},
   "source": [
    "#### How to calculate the number of Hidden Layers ?\n",
    "If your data is linearly separable then you don't need any hidden layers at all. Of course, you don't need an Neural Network to resolve your data either, but it will still do the job. In our case, our data are definitely not linearly separable.  \n",
    "One thing that is important to notice is that there is **no consensus** on how to choose the number of hidden layers. Even tough there are several basic rules that helps building a better Neural Networks architecture, we need to keep in mind that Machine Learning and especially NN are empirical-driven (experiment > theory). The situations in which performance improves with a second (or third, etc.) hidden layer are very few."
   ]
  },
  {
   "cell_type": "markdown",
   "metadata": {},
   "source": [
    "#### How to calculate the number of Hidden Neurons per Hidden Layer ?\n",
    "There are some empirically-derived rules-of-thumb, of these, the most commonly relied on is *'the optimal size of the hidden layer is usually between the size of the input and size of the output layers'*. Hence, if n is the size of the hidden layer, in our case we have **61 < n < 1**.  \n",
    "According to [Neural Network Design](http://hagan.okstate.edu/NNDesign.pdf#page=469) there is one additional rule of thumb that helps for supervised learning problems. You can usually prevent over-fitting if you keep your number of neurons below:  \n",
    "\n",
    "$$N_h = \\frac{N_s} {(\\alpha * (N_i + N_o))}$$\n",
    "\n",
    "**$N_i$**  = number of input neurons.  \n",
    "**$N_o$** = number of output neurons.  \n",
    "**$N_s$** = number of samples in training data set.  \n",
    "**$\\alpha$** = an arbitrary scaling factor usually 2-10. \n",
    "\n",
    "\n",
    "They also advice, for an automated procedure, to start with an alpha of **2** (twice as many degrees of freedom in your training data as your model) and work your way up to 10 if the error (loss) for your training dataset is significantly smaller than for your test dataset."
   ]
  },
  {
   "cell_type": "markdown",
   "metadata": {},
   "source": [
    "#### How to calculate the Output Layer size ?\n",
    "Like the Input layer, every Neural Network has exactly one output layer. Determining its size (number of neurons) is simple; it is completely determined by the chosen model configuration.\n",
    "If the NN is a classifier, then it also has a single node unless **softmax** is used in which case the output layer has one node per class label in your model. As we do not use softmax, our Output Layer consist of a single node: ```layer = Dense(1, activation = 'sigmoid')(layer)```"
   ]
  },
  {
   "cell_type": "markdown",
   "metadata": {},
   "source": [
    "# Optimization of the Network Architecture\n",
    "According to [An Iterative Pruning Algorithm for Feedforward Neural Networks (1997)](https://www.dsi.unive.it/~pelillo/papers/IEEE-TNN%2097.pdf):  \n",
    "The problem of determining the proper size of an artificial neural network is recognized to be crucial, especially for its practical implications in such important issues as **learning** and **generalization**. One popular approach tackling this problem is commonly known as pruning and consists of training a larger than necessary network and then removing unnecessary weights/nodes."
   ]
  },
  {
   "cell_type": "markdown",
   "metadata": {},
   "source": [
    "According to [Pruning Algorithms of Neural Networds - a comparative study](https://www.degruyter.com/downloadpdf/j/comp.2013.3.issue-3/s13537-013-0109-x/s13537-013-0109-x.pdf):   \n",
    "**Pruning** describes a set of techniques to trim network size (by nodes not layers) to improve computational performance and sometimes resolution performance. The gist of these techniques is removing nodes from the network during training by identifying those nodes which, if removed from the network, would not noticeably affect network performance (i.e., resolution of the data). (Even without using a formal pruning technique, you can get a rough idea of which nodes are not important by looking at your weight matrix after training; look weights very close to zero--it's the nodes on either end of those weights that are often removed during pruning.) Obviously, if you use a pruning algorithm during training then begin with a network configuration that is more likely to have excess (i.e., 'prunable') nodes--in other words, when deciding on a network architecture, err on the side of more neurons, if you add a pruning step.\n",
    "\n",
    "There are lot of research paper on genetic-algortihm used in order to approach optimal netword configuration in a single up-front. How-ever, the two-steps optimization cited above is more common."
   ]
  },
  {
   "cell_type": "markdown",
   "metadata": {},
   "source": [
    "# Hyperparameter Optimization through Keras\n",
    "Even though there are several ways in order to optimize hyperparameters (Manual, Machine-Assisted, Algorithmic), we will focus on the Machine-Assisted.\n",
    "In Keras there are different methods: TensorBoard GridSearch RandomizedSearch and so on...  \n",
    "In our case we will use [TensorBoard](https://www.tensorflow.org/tensorboard). "
   ]
  },
  {
   "cell_type": "markdown",
   "metadata": {},
   "source": [
    "In order to have access to TensorBoard, do not forget to ```pip3 install tensorboard``` in the cmd prompt.  "
   ]
  },
  {
   "cell_type": "markdown",
   "metadata": {},
   "source": [
    "The first step is to define the space of hyper-parameters we want to go through:\n",
    "\n",
    "```python\n",
    "dense_layers = [1]\n",
    "layer_sizes = [6, 12, 18]\n",
    "layer_sizes_2 = [2, 4, 6]\n",
    "batch_sizes = [1, 16, 32]\n",
    "```\n",
    "\n",
    "We then loop over each list in order to create all possible pairs:\n",
    "``` python\n",
    "for dense_layer in dense_layers:\n",
    "    for layer_size in layer_sizes:\n",
    "        for layer_size_2 in layer_sizes_2:\n",
    "            for batch_size in batch_sizes:\n",
    "```\n",
    "\n",
    "In order to recognize what model is in the log, we define a **NAME** variable that will define what model we are currently training.  \n",
    "The last step is just to introduce the TensorBoard: \n",
    "```python \n",
    "tensorboard = TensorBoard(log_dir = 'logs/{}'.format(NAME))\n",
    "```"
   ]
  },
  {
   "cell_type": "code",
   "execution_count": 16,
   "metadata": {
    "scrolled": true
   },
   "outputs": [
    {
     "name": "stdout",
     "output_type": "stream",
     "text": [
      "6-nodes_layer1-2-nodes_layer2-1-batch_size\n",
      "WARNING:tensorflow:From c:\\users\\user\\appdata\\local\\programs\\python\\python37\\lib\\site-packages\\tensorflow\\python\\ops\\nn_impl.py:180: add_dispatch_support.<locals>.wrapper (from tensorflow.python.ops.array_ops) is deprecated and will be removed in a future version.\n",
      "Instructions for updating:\n",
      "Use tf.where in 2.0, which has the same broadcast rule as np.where\n",
      "WARNING:tensorflow:From c:\\users\\user\\appdata\\local\\programs\\python\\python37\\lib\\site-packages\\keras\\backend\\tensorflow_backend.py:422: The name tf.global_variables is deprecated. Please use tf.compat.v1.global_variables instead.\n",
      "\n",
      "WARNING:tensorflow:From c:\\users\\user\\appdata\\local\\programs\\python\\python37\\lib\\site-packages\\keras\\callbacks\\tensorboard_v1.py:200: The name tf.summary.merge_all is deprecated. Please use tf.compat.v1.summary.merge_all instead.\n",
      "\n",
      "WARNING:tensorflow:From c:\\users\\user\\appdata\\local\\programs\\python\\python37\\lib\\site-packages\\keras\\callbacks\\tensorboard_v1.py:203: The name tf.summary.FileWriter is deprecated. Please use tf.compat.v1.summary.FileWriter instead.\n",
      "\n",
      "WARNING:tensorflow:From c:\\users\\user\\appdata\\local\\programs\\python\\python37\\lib\\site-packages\\keras\\callbacks\\tensorboard_v1.py:343: The name tf.Summary is deprecated. Please use tf.compat.v1.Summary instead.\n",
      "\n",
      "6-nodes_layer1-2-nodes_layer2-16-batch_size\n",
      "6-nodes_layer1-2-nodes_layer2-32-batch_size\n",
      "6-nodes_layer1-4-nodes_layer2-1-batch_size\n",
      "6-nodes_layer1-4-nodes_layer2-16-batch_size\n",
      "6-nodes_layer1-4-nodes_layer2-32-batch_size\n",
      "6-nodes_layer1-6-nodes_layer2-1-batch_size\n",
      "6-nodes_layer1-6-nodes_layer2-16-batch_size\n",
      "6-nodes_layer1-6-nodes_layer2-32-batch_size\n",
      "12-nodes_layer1-2-nodes_layer2-1-batch_size\n",
      "12-nodes_layer1-2-nodes_layer2-16-batch_size\n",
      "12-nodes_layer1-2-nodes_layer2-32-batch_size\n",
      "12-nodes_layer1-4-nodes_layer2-1-batch_size\n",
      "12-nodes_layer1-4-nodes_layer2-16-batch_size\n",
      "12-nodes_layer1-4-nodes_layer2-32-batch_size\n",
      "12-nodes_layer1-6-nodes_layer2-1-batch_size\n",
      "12-nodes_layer1-6-nodes_layer2-16-batch_size\n",
      "12-nodes_layer1-6-nodes_layer2-32-batch_size\n",
      "18-nodes_layer1-2-nodes_layer2-1-batch_size\n",
      "18-nodes_layer1-2-nodes_layer2-16-batch_size\n",
      "18-nodes_layer1-2-nodes_layer2-32-batch_size\n",
      "18-nodes_layer1-4-nodes_layer2-1-batch_size\n",
      "18-nodes_layer1-4-nodes_layer2-16-batch_size\n",
      "18-nodes_layer1-4-nodes_layer2-32-batch_size\n",
      "18-nodes_layer1-6-nodes_layer2-1-batch_size\n",
      "18-nodes_layer1-6-nodes_layer2-16-batch_size\n",
      "18-nodes_layer1-6-nodes_layer2-32-batch_size\n"
     ]
    }
   ],
   "source": [
    "dense_layers = [1]\n",
    "layer_sizes = [6, 12, 18]\n",
    "layer_sizes_2 = [2, 4, 6]\n",
    "batch_sizes = [1, 16, 32]\n",
    "\n",
    "for dense_layer in dense_layers:\n",
    "    for layer_size in layer_sizes:\n",
    "        for layer_size_2 in layer_sizes_2:\n",
    "            for batch_size in batch_sizes:\n",
    "                \n",
    "                NAME = \"{}-nodes_layer1-{}-nodes_layer2-{}-batch_size\".format(layer_size, layer_size_2, batch_size)\n",
    "                tensorboard = TensorBoard(log_dir = 'logs/{}'.format(NAME))\n",
    "                print(NAME)\n",
    "\n",
    "                model = Sequential()\n",
    "\n",
    "                for l in range(dense_layer):\n",
    "                    model.add(Dense(layer_size,\n",
    "                                    kernel_initializer = 'normal',\n",
    "                                    input_dim = X_train.shape[1]))\n",
    "                    model.add(Dense(layer_size_2))\n",
    "\n",
    "                model.add(Dense(1))\n",
    "                model.add(Activation('sigmoid'))\n",
    "\n",
    "                model.compile(loss = 'binary_crossentropy',\n",
    "                              optimizer = 'adam',\n",
    "                              metrics = ['acc'])\n",
    "                model.fit(X_train, y_train,\n",
    "                          validation_data=(X_test, y_test), batch_size = batch_size,\n",
    "                          epochs = 100,\n",
    "                          callbacks = [EarlyStopping(monitor = 'val_loss', min_delta = 0.0001), tensorboard],\n",
    "                          shuffle = True,\n",
    "                          verbose = False)"
   ]
  },
  {
   "cell_type": "markdown",
   "metadata": {},
   "source": [
    "What we have now is a ```logs``` directory. In order to read those results into TensorBoard, simply write the following command in your ```cmd```:  \n",
    "```tensorboard --logdir=path\\to\\logs --host localhost --port 8088```  \n",
    "Open a web browser and as the URL put:  \n",
    "```http://localhost:8088/```\n"
   ]
  },
  {
   "cell_type": "markdown",
   "metadata": {},
   "source": [
    "Here are the result from our different Neural Networks."
   ]
  },
  {
   "cell_type": "markdown",
   "metadata": {},
   "source": [
    "![TensorBoard Result](pictures/TensorBoardResult.png)"
   ]
  },
  {
   "cell_type": "markdown",
   "metadata": {},
   "source": [
    "[![Val_Loss](https://i.gyazo.com/aae0aa46a021ed920c04363994ccb5b5.gif)](https://gyazo.com/aae0aa46a021ed920c04363994ccb5b5)"
   ]
  },
  {
   "cell_type": "markdown",
   "metadata": {},
   "source": [
    "Here is the Validate Loss Value for each Neural Networks we trained by descending value:"
   ]
  },
  {
   "cell_type": "markdown",
   "metadata": {},
   "source": [
    "![Validation Loss](pictures/val_loss_descc.png)"
   ]
  },
  {
   "cell_type": "markdown",
   "metadata": {},
   "source": [
    "#### Conclusion:\n",
    "The retained model is the one with the least Validation Loss value: **6 nodes** for the 1-th hidden layer, **6 nodes** for the 2-th hidden layer"
   ]
  },
  {
   "cell_type": "code",
   "execution_count": 15,
   "metadata": {},
   "outputs": [
    {
     "name": "stdout",
     "output_type": "stream",
     "text": [
      "WARNING:tensorflow:From c:\\users\\user\\appdata\\local\\programs\\python\\python37\\lib\\site-packages\\tensorflow\\python\\ops\\nn_impl.py:180: add_dispatch_support.<locals>.wrapper (from tensorflow.python.ops.array_ops) is deprecated and will be removed in a future version.\n",
      "Instructions for updating:\n",
      "Use tf.where in 2.0, which has the same broadcast rule as np.where\n",
      "WARNING:tensorflow:From c:\\users\\user\\appdata\\local\\programs\\python\\python37\\lib\\site-packages\\keras\\backend\\tensorflow_backend.py:422: The name tf.global_variables is deprecated. Please use tf.compat.v1.global_variables instead.\n",
      "\n",
      "Train on 700 samples, validate on 300 samples\n",
      "Epoch 1/100\n",
      "700/700 [==============================] - 0s 296us/step - loss: 0.6712 - mse: 0.2389 - acc: 0.5957 - val_loss: 0.5922 - val_mse: 0.2015 - val_acc: 0.7467\n",
      "Epoch 2/100\n",
      "700/700 [==============================] - 0s 71us/step - loss: 0.5630 - mse: 0.1886 - acc: 0.7529 - val_loss: 0.5548 - val_mse: 0.1861 - val_acc: 0.7467\n",
      "Epoch 3/100\n",
      "700/700 [==============================] - 0s 67us/step - loss: 0.5073 - mse: 0.1658 - acc: 0.7800 - val_loss: 0.5318 - val_mse: 0.1771 - val_acc: 0.7433\n",
      "Epoch 4/100\n",
      "700/700 [==============================] - 0s 67us/step - loss: 0.4774 - mse: 0.1553 - acc: 0.7714 - val_loss: 0.5260 - val_mse: 0.1757 - val_acc: 0.7433\n",
      "Epoch 5/100\n",
      "700/700 [==============================] - 0s 67us/step - loss: 0.4622 - mse: 0.1503 - acc: 0.7800 - val_loss: 0.5250 - val_mse: 0.1752 - val_acc: 0.7467\n",
      "Epoch 6/100\n",
      "700/700 [==============================] - 0s 64us/step - loss: 0.4516 - mse: 0.1465 - acc: 0.7800 - val_loss: 0.5272 - val_mse: 0.1762 - val_acc: 0.7400\n"
     ]
    }
   ],
   "source": [
    "def Best_Model():\n",
    "    inputs = Input(name='inputs', shape=[input_dim])\n",
    "    layer = Dense(units = 12,\n",
    "                  kernel_initializer = 'uniform',\n",
    "                  input_dim = input_dim)(inputs)\n",
    "    layer = Dense(units = 6)(layer)\n",
    "    layer = Dense(1, activation = 'sigmoid')(layer)\n",
    "    model = Model(inputs = inputs, outputs = layer)\n",
    "    return model\n",
    "\n",
    "classifier = Keras_Model()\n",
    "classifier.compile(loss = 'binary_crossentropy',\n",
    "              optimizer = 'adam',\n",
    "              metrics = ['mse', 'acc'])\n",
    "nn_it = classifier.fit(X_train, y_train,\n",
    "                       validation_data=(X_test, y_test), batch_size = 16,\n",
    "                       epochs = 100,\n",
    "                       callbacks = [EarlyStopping(monitor = 'val_loss', min_delta = 0.0001)],\n",
    "                       shuffle = True)"
   ]
  },
  {
   "cell_type": "code",
   "execution_count": null,
   "metadata": {},
   "outputs": [],
   "source": [
    "y_pred = classifier.predict(X_test)\n",
    "y_pred = (y_pred > 0.5)\n",
    "\n",
    "from sklearn.metrics import recall_score, classification_report, auc, roc_curve\n",
    "cm = confusion_matrix(y_test, y_pred)\n",
    "print(cm)\n",
    "\n",
    "\n",
    "acc_loss(nn_it)"
   ]
  },
  {
   "cell_type": "markdown",
   "metadata": {},
   "source": [
    "#### How to calculate optimal batch size ?\n",
    "Minibatch sizes are generally driven by the following factors:\n",
    "\n",
    "* **Larger batches provide a more accurate estimate of the gradient**, but with less than linear returns.\n",
    "* Multicore architectures are usually underutilized by extremely small batches. This motivates using some**absolute minimum batch size**, below which there is no reduction in the time to process a minibatch.\n",
    "* If all examples in the batch are to be processed in parallel (as is typically thecase), then the amount of memory scales with the batch size. For many hardware setups this is the limiting factor in batch size.\n",
    "* Some kinds of hardware achieve better runtime with speciﬁc sizes of arrays. Especially when using GPUs, it is common for power of 2 batch sizes to offer better runtime. **Typical power of 2 batch sizes range from 32 to 256, with 16 sometimes being attempted for large models**.\n",
    "* **Small batches can offer a regularizing effect** (Wilson and Martinez, 2003), perhaps due to **the noise they add** to the learning process. **Generalization error is often best for a batch size of 1**. Training with such a small batch size might require a small learning rate to maintain stability because of the high variance in the estimate of the gradient. The total runtime can be very high as a result of the need to make more steps, both because of the reduced learning rate and because it takes more steps to observe the entire training set.  \n",
    "\n",
    "#### Conclusion:\n",
    "* Estimation of the gradient is better with larger batch sizes.\n",
    "* Depends if you are running on GPU or CPU (in our case CPU). If so, specific sizes of arrays (power of 2) offers better runtime.\n",
    "* Small batches add noise to the learning process. Generalization error is often best for **batch_size = 1**."
   ]
  },
  {
   "cell_type": "code",
   "execution_count": 58,
   "metadata": {},
   "outputs": [
    {
     "name": "stdout",
     "output_type": "stream",
     "text": [
      "Train on 560 samples, validate on 140 samples\n",
      "Epoch 1/20\n",
      "560/560 [==============================] - 0s 344us/step - loss: 0.6528 - mse: 0.2302 - acc: 0.6357 - val_loss: 0.6192 - val_mse: 0.2142 - val_acc: 0.6500\n",
      "Epoch 2/20\n",
      "560/560 [==============================] - 0s 18us/step - loss: 0.5419 - mse: 0.1782 - acc: 0.7732 - val_loss: 0.5816 - val_mse: 0.1983 - val_acc: 0.6929\n",
      "Epoch 3/20\n",
      "560/560 [==============================] - 0s 21us/step - loss: 0.4769 - mse: 0.1520 - acc: 0.7911 - val_loss: 0.5641 - val_mse: 0.1921 - val_acc: 0.7000\n",
      "Epoch 4/20\n",
      "560/560 [==============================] - 0s 18us/step - loss: 0.4370 - mse: 0.1379 - acc: 0.8018 - val_loss: 0.5570 - val_mse: 0.1898 - val_acc: 0.7071\n",
      "Epoch 5/20\n",
      "560/560 [==============================] - 0s 16us/step - loss: 0.4112 - mse: 0.1295 - acc: 0.8071 - val_loss: 0.5543 - val_mse: 0.1886 - val_acc: 0.7071\n",
      "Epoch 6/20\n",
      "560/560 [==============================] - 0s 16us/step - loss: 0.3911 - mse: 0.1229 - acc: 0.8179 - val_loss: 0.5551 - val_mse: 0.1884 - val_acc: 0.7071\n"
     ]
    }
   ],
   "source": [
    "nn_it = classifier.fit(X_train, y_train,\n",
    "                       validation_split=0.20,\n",
    "                       batch_size = 100,\n",
    "                       epochs = 20,\n",
    "                       callbacks = [EarlyStopping(monitor = 'val_loss', min_delta = 0.0001)])\n"
   ]
  },
  {
   "cell_type": "markdown",
   "metadata": {},
   "source": [
    "Prediction then computing the confusion matrix"
   ]
  },
  {
   "cell_type": "code",
   "execution_count": 59,
   "metadata": {},
   "outputs": [
    {
     "name": "stdout",
     "output_type": "stream",
     "text": [
      "[[175  35]\n",
      " [ 48  42]]\n"
     ]
    },
    {
     "data": {
      "image/png": "[encoded data removed]",
      "text/plain": [
       "<Figure size 864x360 with 2 Axes>"
      ]
     },
     "metadata": {},
     "output_type": "display_data"
    }
   ],
   "source": [
    "y_pred = classifier.predict(X_test)\n",
    "y_pred = (y_pred > 0.5)\n",
    "\n",
    "from sklearn.metrics import recall_score, classification_report, auc, roc_curve\n",
    "cm = confusion_matrix(y_test, y_pred)\n",
    "print(cm)\n",
    "\n",
    "\n",
    "acc_loss(nn_it)"
   ]
  },
  {
   "cell_type": "code",
   "execution_count": 60,
   "metadata": {},
   "outputs": [
    {
     "name": "stdout",
     "output_type": "stream",
     "text": [
      "Training Accuracy: 0.8000\n",
      "Testing Accuracy:  0.7233\n"
     ]
    }
   ],
   "source": [
    "loss, mse, accuracy = classifier.evaluate(X_train, y_train, verbose=False)\n",
    "print(\"Training Accuracy: {:.4f}\".format(accuracy))\n",
    "loss, mse, accuracy = classifier.evaluate(X_test, y_test, verbose=False)\n",
    "print(\"Testing Accuracy:  {:.4f}\".format(accuracy))"
   ]
  },
  {
   "cell_type": "markdown",
   "metadata": {},
   "source": [
    "Another model:  \n",
    "For example here we have:\n",
    "* An input layer equals to the number of features we have after one hot encoding (input_dim = 61),\n",
    "* 1-th hidden layer that has 6 hidden neurons, with an uniform distribution as kernel_initializer,\n",
    "* 2-th hidden layer that 2 hidden neurons,\n",
    "* Output layer, with a sigmoid activation function"
   ]
  },
  {
   "cell_type": "code",
   "execution_count": 31,
   "metadata": {},
   "outputs": [
    {
     "name": "stdout",
     "output_type": "stream",
     "text": [
      "Train on 700 samples, validate on 300 samples\n",
      "Epoch 1/100\n",
      "700/700 [==============================] - 1s 735us/step - loss: 0.6521 - acc: 0.6400 - f1_m: 0.4678 - precision_m: 0.4340 - recall_m: 0.5749 - val_loss: 0.6251 - val_acc: 0.6800 - val_f1_m: 0.5527 - val_precision_m: 0.5038 - val_recall_m: 0.7065\n",
      "Epoch 2/100\n",
      "700/700 [==============================] - 0s 100us/step - loss: 0.5627 - acc: 0.7543 - f1_m: 0.5845 - precision_m: 0.5887 - recall_m: 0.6299 - val_loss: 0.5731 - val_acc: 0.7067 - val_f1_m: 0.5855 - val_precision_m: 0.5418 - val_recall_m: 0.7190\n",
      "Epoch 3/100\n",
      "700/700 [==============================] - 0s 114us/step - loss: 0.5078 - acc: 0.7686 - f1_m: 0.6033 - precision_m: 0.6363 - recall_m: 0.6250 - val_loss: 0.5475 - val_acc: 0.7200 - val_f1_m: 0.5828 - val_precision_m: 0.5709 - val_recall_m: 0.6571\n",
      "Epoch 4/100\n",
      "700/700 [==============================] - 0s 100us/step - loss: 0.4779 - acc: 0.7829 - f1_m: 0.6045 - precision_m: 0.6462 - recall_m: 0.6139 - val_loss: 0.5397 - val_acc: 0.7300 - val_f1_m: 0.5921 - val_precision_m: 0.5750 - val_recall_m: 0.6545\n",
      "Epoch 5/100\n",
      "700/700 [==============================] - 0s 103us/step - loss: 0.4610 - acc: 0.7800 - f1_m: 0.5878 - precision_m: 0.6623 - recall_m: 0.6127 - val_loss: 0.5349 - val_acc: 0.7367 - val_f1_m: 0.5778 - val_precision_m: 0.5880 - val_recall_m: 0.6264\n",
      "Epoch 6/100\n",
      "700/700 [==============================] - 0s 111us/step - loss: 0.4519 - acc: 0.7814 - f1_m: 0.5996 - precision_m: 0.7104 - recall_m: 0.5744 - val_loss: 0.5373 - val_acc: 0.7433 - val_f1_m: 0.5896 - val_precision_m: 0.5887 - val_recall_m: 0.6326\n",
      "[[167  43]\n",
      " [ 34  56]]\n"
     ]
    },
    {
     "data": {
      "image/png": "[encoded data removed]",
      "text/plain": [
       "<Figure size 864x360 with 2 Axes>"
      ]
     },
     "metadata": {},
     "output_type": "display_data"
    }
   ],
   "source": [
    "def Keras_Model():\n",
    "    inputs = Input(name='inputs', shape=[input_dim])\n",
    "    layer = Dense(units = 6,\n",
    "                  kernel_initializer = 'uniform',\n",
    "                  input_dim = input_dim)(inputs)\n",
    "    layer = Dense(units = 2)(layer)\n",
    "    layer = Dense(1, activation = 'sigmoid')(layer)\n",
    "    model = Model(inputs = inputs, outputs = layer)\n",
    "    return model\n",
    "\n",
    "classifier = Keras_Model()\n",
    "classifier.compile(loss = 'binary_crossentropy',\n",
    "                   optimizer = 'adam',\n",
    "                   metrics = ['acc', f1_m,precision_m, recall_m])\n",
    "nn_it = classifier.fit(X_train, y_train,\n",
    "                       validation_data=(X_test, y_test), batch_size = 16,\n",
    "                       epochs = 100,\n",
    "                       callbacks = [EarlyStopping(monitor = 'val_loss', min_delta = 0.0001)],\n",
    "                       shuffle = True)\n",
    "\n",
    "\n",
    "\n",
    "y_pred = classifier.predict(X_test)\n",
    "y_pred = (y_pred > 0.5)\n",
    "\n",
    "from sklearn.metrics import recall_score, classification_report, auc, roc_curve\n",
    "cm = confusion_matrix(y_test, y_pred)\n",
    "print(cm)\n",
    "\n",
    "\n",
    "acc_loss(nn_it)"
   ]
  },
  {
   "cell_type": "code",
   "execution_count": 42,
   "metadata": {},
   "outputs": [
    {
     "name": "stdout",
     "output_type": "stream",
     "text": [
      "Training Accuracy : 0.7914\n",
      "Training F1-Score : 0.5959\n",
      "Training Precision: 0.6851\n",
      "Training Recall   : 0.5461\n",
      "==========================\n",
      "Testing Accuracy :  0.7433\n",
      "Testing F1-Score :  0.5849\n",
      "Testing Precision:  0.5987\n",
      "Testing Recall   :  0.6163\n"
     ]
    }
   ],
   "source": [
    "loss, accuracy, f1_score, precision, recall = classifier.evaluate(X_train, y_train, verbose=False)\n",
    "print(\"Training Accuracy : {:.4f}\".format(accuracy))\n",
    "print(\"Training F1-Score : {:.4f}\".format(f1_score))\n",
    "print(\"Training Precision: {:.4f}\".format(precision))\n",
    "print(\"Training Recall   : {:.4f}\".format(recall))\n",
    "print(\"==========================\")\n",
    "loss, accuracy, f1_score, precision, recall = classifier.evaluate(X_test, y_test, verbose=False)\n",
    "print(\"Testing Accuracy :  {:.4f}\".format(accuracy))\n",
    "print(\"Testing F1-Score :  {:.4f}\".format(f1_score))\n",
    "print(\"Testing Precision:  {:.4f}\".format(precision))\n",
    "print(\"Testing Recall   :  {:.4f}\".format(recall))"
   ]
  },
  {
   "cell_type": "markdown",
   "metadata": {},
   "source": [
    "# Generalization  \n",
    "## Overfitting  \n",
    "\n",
    "In Machine Learning, **overfitting** means models perform well on the training data but don’t generalize well for new data. This happens when the model is too complex relative to the amount and noisiness of the training data.  \n",
    "In other words, overfitting (or underfitting) occurs when a model is too specific (or not specific enough) to the training data, and doesn't extrapolate well to the true domain.  \n",
    "This picture explains well what is overfitting:\n",
    "![overfitting](https://i.stack.imgur.com/NNj3k.png?s=256)\n",
    "\n",
    "Clearly, the green line, a decision boundary trying to separate the red class from the blue, is \"overfitting\", because although it will do well on the training data, it lacks the \"regularized\" form we like to see when generalizing.  \n",
    "\n",
    "### When does overfitting occur, generally?  \n",
    "Obviously, the testing error will always (in expectation) be worse than the training error, but at a certain number of iterations, the loss in testing will start to increase, even as the loss in training continues to decline.  \n",
    "\n",
    "### How to tell when a model has overfit visually?  \n",
    "Plotting Train and Validation losses allows us to detect possible overfitting.  \n",
    "\n",
    "Here is an example with a graph from [fast.ai](https://forums.fast.ai/t/determining-when-you-are-overfitting-underfitting-or-just-right/7732/9):\n",
    "![loss_tr_val](https://i.stack.imgur.com/dN7nBm.png)\n",
    "\n",
    "Two things we can observe from this graph:\n",
    "* The training loss keeps decreasing after every epoch. Our model is learning to recognize the specific labels in the training set.\n",
    "* The validation loss keeps increasing after every epoch. Our model is not generalizing well enough on the validation set.\n",
    "\n",
    "## How to prevent overfitting ?\n",
    "\n",
    "Here are the most common ways to prevent overfitting in Neural Networks (and Machine Learning in general):\n",
    "* Get more training data\n",
    "* Add Dropout\n",
    "* Reduce the capacity of the network (i.e. simply the model)\n",
    "* Early Stopping\n",
    "* Feature Selection\n",
    "\n",
    "### More training data\n",
    "Really depends on the problem you are facing. In our case we can not get more data.\n",
    "\n",
    "### Dropout\n",
    "Dropout is one of the most effective and most commonly used regularization techniques for neural networks, developed by Hinton and his students at the University of Toronto in [Dropout: A Simple Way to Prevent Neural Networks from\n",
    "Overfitting](http://www.jmlr.org/papers/volume15/srivastava14a/srivastava14a.pdf).  Dropout, applied to a layer, consists of randomly “dropping out” (i.e. set to zero) a number of output features of the layer during training. The “dropout rate” is the fraction of the features that are being zeroed-out; it is usually set between 0.2 and 0.5. More information about dropout can be find in this [Keras article](https://keras.rstudio.com/articles/tutorial_overfit_underfit.html).  \n",
    "\n",
    "[![Image from Gyazo](https://i.gyazo.com/271d805b0b1f143d2bf129a9fd03769b.png)](https://gyazo.com/271d805b0b1f143d2bf129a9fd03769b)\n",
    "\n",
    "### Reduce the capacity of the network\n",
    "The first step when dealing with overfitting is to decrease the complexity of the model. There is no general rule on how much to remove or how big your network should be. But, if your network is overfitting, try making it smaller.\n",
    "\n",
    "### Early Stopping\n",
    "Another way to prevent overfitting is to stop your training process early: Instead of training for a fixed number of epochs, you stop as soon as the validation loss rises — because, after that, your model will generally only get worse with more training. You can implement early stopping easily with a callback in keras as we did:\n",
    "```python \n",
    "callbacks = [EarlyStopping(monitor = 'val_loss', min_delta = 0.0001)]\n",
    "```\n",
    "Please note that the EarlyStopping implemented in keras is a **Validation-based early stopping**. This means the error on the validation set is used as a proxy for the generalization error in determining when overfitting has begun. The implementation works as follow:\n",
    "1. Split the training data into a training set and a validation set, e.g. in a 2-to-1 proportion.\n",
    "2. Train only on the training set and evaluate the per-example error on the validation set once in a while, e.g. after every fifth epoch.\n",
    "3. Stop training as soon as the error on the validation set is higher than it was the last time it was checked.\n",
    "4. Use the weights the network had in that previous step as the result of the training run\n",
    "\n",
    "### Feature Selection\n",
    "It is better to use the most important only, especially if you deal with high-dimensionnal data. In our case, we have **61** features for **1000** observations. These are quite a lot of features for such a small dataset.  \n",
    "One of the simplest ways to select relevant features is to calculate the **F-Score** for each feature.   \n",
    "As a reminder the formula for the one-way ANOVA-F-test statistic is:  \n",
    "$$ F = \\frac{\\textrm{explained variance}}{\\textrm{unexplained variance}} $$ or\n",
    "$$ F = \\frac{\\textrm{between-group variability}}{\\textrm{within-group variability}} $$\n",
    "A high F-score usually means that the feature is more important than a feature with a low F-score.\n",
    "In python, sklearn enables us to calculate the F-Scores for the Features like this:\n"
   ]
  },
  {
   "cell_type": "code",
   "execution_count": 67,
   "metadata": {
    "scrolled": true
   },
   "outputs": [
    {
     "data": {
      "text/plain": [
       "<BarContainer object of 61 artists>"
      ]
     },
     "execution_count": 67,
     "metadata": {},
     "output_type": "execute_result"
    },
    {
     "data": {
      "image/png": "[encoded data removed]",
      "text/plain": [
       "<Figure size 432x288 with 1 Axes>"
      ]
     },
     "metadata": {},
     "output_type": "display_data"
    }
   ],
   "source": [
    "X_indices = np.arange(X_train.shape[-1])\n",
    "selector = SelectKBest(f_classif, k=30)\n",
    "selector.fit(X_train, y_train)\n",
    "scores = -np.log10(selector.pvalues_)\n",
    "scores /= scores.max()\n",
    "plt.bar(X_indices - .45, scores, width=.2,\n",
    "        label=r'Univariate score ($-Log(p_{value})$)', color='darkorange',\n",
    "        edgecolor='black')"
   ]
  },
  {
   "cell_type": "markdown",
   "metadata": {},
   "source": [
    "We can see that the 10-th feature in our dataset is the most important one according to F-score. This variable correspond to **Comptes_A14** which is when the client has no current account. The second most important feature is **Comptes_A11** which is when the client has less than 0€ on his current account."
   ]
  },
  {
   "cell_type": "markdown",
   "metadata": {},
   "source": [
    "# Benchmarking versus other Machine Learning algorithms"
   ]
  },
  {
   "cell_type": "markdown",
   "metadata": {},
   "source": [
    "## Random Forest"
   ]
  },
  {
   "cell_type": "code",
   "execution_count": 30,
   "metadata": {},
   "outputs": [
    {
     "name": "stdout",
     "output_type": "stream",
     "text": [
      "Training Features Shape: (700, 61)\n",
      "Training Target Shape: (700,)\n",
      "Testing Features Shape: (300, 61)\n",
      "Testing Target Shape: (300,)\n"
     ]
    }
   ],
   "source": [
    "print('Training Features Shape:', X_train.shape)\n",
    "print('Training Target Shape:', y_train.shape)\n",
    "print('Testing Features Shape:', X_test.shape)\n",
    "print('Testing Target Shape:', y_test.shape)"
   ]
  },
  {
   "cell_type": "code",
   "execution_count": 11,
   "metadata": {},
   "outputs": [
    {
     "name": "stdout",
     "output_type": "stream",
     "text": [
      "Best: 0.780000 using {'bootstrap': True, 'criterion': 'entropy', 'max_depth': 10, 'max_features': 'sqrt', 'min_samples_leaf': 1, 'min_samples_split': 10, 'n_estimators': 1000}\n"
     ]
    }
   ],
   "source": [
    "%%time\n",
    "rf = RandomForestClassifier()\n",
    "\n",
    "parameters = {\n",
    " 'bootstrap':         [True, False],\n",
    " 'max_depth':         [10, 20, 50, 100],\n",
    " 'max_features':      ['auto', 'sqrt'],\n",
    " 'min_samples_leaf':  [1, 2, 4],\n",
    " 'min_samples_split': [2, 5, 10],\n",
    " 'n_estimators':      [200, 500, 1000],\n",
    " 'criterion':         ['gini', 'entropy']\n",
    "}\n",
    "\n",
    "\n",
    "rf_classifier = GridSearchCV(rf, parameters, cv=5, n_jobs = -1)\n",
    "rf_classifier = rf_classifier.fit(X_train, y_train)\n",
    "\n",
    "print(\"Best: %f using %s\" % (rf_classifier.best_score_, rf_classifier.best_params_))"
   ]
  },
  {
   "cell_type": "code",
   "execution_count": 12,
   "metadata": {},
   "outputs": [],
   "source": [
    "rf_model = RandomForestClassifier(bootstrap = 'True' ,\n",
    "                            max_depth = 10,\n",
    "                            max_features = 'sqrt',\n",
    "                            min_samples_leaf = 1,\n",
    "                            min_samples_split = 10,\n",
    "                            n_estimators = 1000,\n",
    "                            criterion = 'entropy')"
   ]
  },
  {
   "cell_type": "code",
   "execution_count": 13,
   "metadata": {},
   "outputs": [
    {
     "data": {
      "image/png": "[encoded data removed]",
      "text/plain": [
       "<Figure size 432x288 with 1 Axes>"
      ]
     },
     "metadata": {},
     "output_type": "display_data"
    }
   ],
   "source": [
    "rf_model.fit(X_train,y_train)\n",
    "\n",
    "# Use the forest's predict method on the test data\n",
    "predictions = rf_model.predict(X_test)\n",
    "predictions_prob = rf_model.predict_proba(X_test)\n",
    "\n",
    "# Get numerical feature importances\n",
    "importances = sorted(list(rf_model.feature_importances_),reverse=True)\n",
    "# List of tuples with variable and importance\n",
    "feature_importances = [(feature, round(importance, 2)) for feature, importance in zip(features_list, importances)]\n",
    "# Sort the feature importances by most important first\n",
    "feature_importances = sorted(feature_importances, key = lambda x: x[1], reverse = True)\n",
    "\n",
    "plt.style.use('fivethirtyeight')\n",
    "# list of x locations for plotting\n",
    "x_values = list(range(len(importances)))\n",
    "# Make a bar chart\n",
    "plt.bar(x_values[:13], importances[:13], orientation = 'vertical')\n",
    "# Tick labels for x axis\n",
    "plt.xticks(x_values[:13], features_list[:13], rotation='vertical')\n",
    "# Axis labels and title\n",
    "plt.ylabel('Importance'); plt.xlabel('Variables'); plt.title('Variable Importance');"
   ]
  },
  {
   "cell_type": "code",
   "execution_count": 14,
   "metadata": {},
   "outputs": [
    {
     "name": "stdout",
     "output_type": "stream",
     "text": [
      "[[186  24]\n",
      " [ 55  35]]\n",
      "0.46979865771812085\n"
     ]
    }
   ],
   "source": [
    "y_pred = rf_model.predict(X_test)\n",
    "pscore = metrics.accuracy_score(y_test, y_pred)\n",
    "pscore_f1 = metrics.f1_score(y_test, y_pred)\n",
    "from sklearn.metrics import recall_score, classification_report, auc, roc_curve\n",
    "cm = confusion_matrix(y_test, y_pred)\n",
    "print(cm)\n",
    "print(pscore_f1)"
   ]
  },
  {
   "cell_type": "code",
   "execution_count": 16,
   "metadata": {},
   "outputs": [
    {
     "name": "stdout",
     "output_type": "stream",
     "text": [
      "Testing Accuracy :  0.7367\n",
      "Testing F1-Score :  0.4698\n",
      "Testing Precision:  0.5932\n",
      "Testing Recall   :  0.3889\n",
      "Wall time: 2.99 ms\n"
     ]
    }
   ],
   "source": [
    "acc_RF = accuracy_score(y_test, y_pred)\n",
    "f1_score_RF = f1_score(y_test, y_pred)\n",
    "recall_score_RF = recall_score(y_test, y_pred)\n",
    "precision_score_RF = precision_score(y_test, y_pred)\n",
    "print(\"Testing Accuracy :  {:.4f}\".format(acc_RF))\n",
    "print(\"Testing F1-Score :  {:.4f}\".format(f1_score_RF))\n",
    "print(\"Testing Precision:  {:.4f}\".format(precision_score_RF))\n",
    "print(\"Testing Recall   :  {:.4f}\".format(recall_score_RF))"
   ]
  },
  {
   "cell_type": "markdown",
   "metadata": {},
   "source": [
    "## Logistic Regression"
   ]
  },
  {
   "cell_type": "code",
   "execution_count": 26,
   "metadata": {},
   "outputs": [
    {
     "name": "stdout",
     "output_type": "stream",
     "text": [
      "Training Features Shape: (700, 61)\n",
      "Training Target Shape: (700,)\n",
      "Testing Features Shape: (300, 61)\n",
      "Testing Target Shape: (300,)\n"
     ]
    }
   ],
   "source": [
    "print('Training Features Shape:', X_train.shape)\n",
    "print('Training Target Shape:', y_train.shape)\n",
    "print('Testing Features Shape:', X_test.shape)\n",
    "print('Testing Target Shape:', y_test.shape)"
   ]
  },
  {
   "cell_type": "code",
   "execution_count": 27,
   "metadata": {},
   "outputs": [
    {
     "data": {
      "text/plain": [
       "LogisticRegression(C=1.0, class_weight=None, dual=False, fit_intercept=True,\n",
       "                   intercept_scaling=1, l1_ratio=None, max_iter=100,\n",
       "                   multi_class='auto', n_jobs=None, penalty='l2',\n",
       "                   random_state=None, solver='lbfgs', tol=0.0001, verbose=0,\n",
       "                   warm_start=False)"
      ]
     },
     "execution_count": 27,
     "metadata": {},
     "output_type": "execute_result"
    }
   ],
   "source": [
    "logit_classifier = LogisticRegression()\n",
    "logit_classifier.fit(X_train, y_train)\n",
    "#score = classifier.score(X_test, y_test)\n",
    "#print(score)"
   ]
  },
  {
   "cell_type": "code",
   "execution_count": 28,
   "metadata": {},
   "outputs": [
    {
     "name": "stdout",
     "output_type": "stream",
     "text": [
      "[[165  45]\n",
      " [ 36  54]]\n",
      "              precision    recall  f1-score   support\n",
      "\n",
      "           0       0.82      0.79      0.80       210\n",
      "           1       0.55      0.60      0.57        90\n",
      "\n",
      "    accuracy                           0.73       300\n",
      "   macro avg       0.68      0.69      0.69       300\n",
      "weighted avg       0.74      0.73      0.73       300\n",
      "\n"
     ]
    }
   ],
   "source": [
    "y_pred = logit_classifier.predict(X_test)\n",
    "\n",
    "from sklearn.metrics import recall_score, classification_report, auc, roc_curve\n",
    "cm = confusion_matrix(y_test, y_pred)\n",
    "print(cm)\n",
    "print(classification_report(y_test,y_pred))"
   ]
  },
  {
   "cell_type": "code",
   "execution_count": 29,
   "metadata": {},
   "outputs": [
    {
     "name": "stdout",
     "output_type": "stream",
     "text": [
      "Testing Accuracy :  0.7300\n",
      "Testing F1-Score :  0.5714\n",
      "Testing Precision:  0.5455\n",
      "Testing Recall   :  0.6000\n"
     ]
    }
   ],
   "source": [
    "acc = accuracy_score(y_test, y_pred)\n",
    "f1_score = f1_score(y_test, y_pred)\n",
    "recall_score = recall_score(y_test, y_pred)\n",
    "precision_score = precision_score(y_test, y_pred)\n",
    "print(\"Testing Accuracy :  {:.4f}\".format(acc))\n",
    "print(\"Testing F1-Score :  {:.4f}\".format(f1_score))\n",
    "print(\"Testing Precision:  {:.4f}\".format(precision_score))\n",
    "print(\"Testing Recall   :  {:.4f}\".format(recall_score))"
   ]
  },
  {
   "cell_type": "markdown",
   "metadata": {},
   "source": [
    "## Support Vector Classifier - SVC"
   ]
  },
  {
   "cell_type": "code",
   "execution_count": 21,
   "metadata": {},
   "outputs": [
    {
     "name": "stdout",
     "output_type": "stream",
     "text": [
      "Training Features Shape: (700, 61)\n",
      "Training Target Shape: (700,)\n",
      "Testing Features Shape: (300, 61)\n",
      "Testing Target Shape: (300,)\n"
     ]
    }
   ],
   "source": [
    "print('Training Features Shape:', X_train.shape)\n",
    "print('Training Target Shape:', y_train.shape)\n",
    "print('Testing Features Shape:', X_test.shape)\n",
    "print('Testing Target Shape:', y_test.shape)"
   ]
  },
  {
   "cell_type": "code",
   "execution_count": 22,
   "metadata": {},
   "outputs": [
    {
     "name": "stdout",
     "output_type": "stream",
     "text": [
      "Best: 0.760000 using {'C': 1000, 'gamma': 0.001, 'kernel': 'rbf', 'random_state': 1337}\n"
     ]
    }
   ],
   "source": [
    "%%time\n",
    "SVClass = SVC()\n",
    "\n",
    "parameters = {\n",
    " 'kernel':       ['rbf','linear','poly'],\n",
    " 'C':            [1,10,100,1000],\n",
    " 'gamma':        [1e-3, 1e-4],\n",
    " 'random_state': [1337]\n",
    "}\n",
    "\n",
    "\n",
    "SVC_classifier = GridSearchCV(SVClass, parameters, cv=5)\n",
    "SVC_classifier = SVC_classifier.fit(X_train, y_train)\n",
    "\n",
    "print(\"Best: %f using %s\" % (SVC_classifier.best_score_, SVC_classifier.best_params_))"
   ]
  },
  {
   "cell_type": "code",
   "execution_count": 23,
   "metadata": {},
   "outputs": [
    {
     "data": {
      "text/plain": [
       "SVC(C=1000, break_ties=False, cache_size=200, class_weight=None, coef0=0.0,\n",
       "    decision_function_shape='ovr', degree=3, gamma=0.001, kernel='rbf',\n",
       "    max_iter=-1, probability=False, random_state=1337, shrinking=True,\n",
       "    tol=0.001, verbose=False)"
      ]
     },
     "execution_count": 23,
     "metadata": {},
     "output_type": "execute_result"
    }
   ],
   "source": [
    "SVC_model = SVC(kernel='rbf',\n",
    "                   C = 1000,\n",
    "                   gamma = 0.001,\n",
    "                   random_state = 1337)\n",
    "\n",
    "SVC_model.fit(X_train, y_train)"
   ]
  },
  {
   "cell_type": "code",
   "execution_count": 24,
   "metadata": {},
   "outputs": [
    {
     "name": "stdout",
     "output_type": "stream",
     "text": [
      "0.7\n",
      "[[163  47]\n",
      " [ 43  47]]\n",
      "              precision    recall  f1-score   support\n",
      "\n",
      "           0       0.79      0.78      0.78       210\n",
      "           1       0.50      0.52      0.51        90\n",
      "\n",
      "    accuracy                           0.70       300\n",
      "   macro avg       0.65      0.65      0.65       300\n",
      "weighted avg       0.70      0.70      0.70       300\n",
      "\n"
     ]
    }
   ],
   "source": [
    "y_pred = SVC_model.predict(X_test)\n",
    "\n",
    "score = SVC_model.score(X_test, y_test)\n",
    "print(score)\n",
    "from sklearn.metrics import recall_score, classification_report, auc, roc_curve\n",
    "CM_SVC = confusion_matrix(y_test, y_pred)\n",
    "print(CM_SVC)\n",
    "print(classification_report(y_test,y_pred))"
   ]
  },
  {
   "cell_type": "code",
   "execution_count": 25,
   "metadata": {},
   "outputs": [
    {
     "name": "stdout",
     "output_type": "stream",
     "text": [
      "Testing Accuracy :  0.7000\n",
      "Testing F1-Score :  0.5109\n",
      "Testing Precision:  0.5000\n",
      "Testing Recall   :  0.5222\n"
     ]
    }
   ],
   "source": [
    "acc_SVC = accuracy_score(y_test, y_pred)\n",
    "f1_score_SVC = f1_score(y_test, y_pred)\n",
    "recall_score_SVC = recall_score(y_test, y_pred)\n",
    "precision_score_SVC = precision_score(y_test, y_pred)\n",
    "print(\"Testing Accuracy :  {:.4f}\".format(acc_SVC))\n",
    "print(\"Testing F1-Score :  {:.4f}\".format(f1_score_SVC))\n",
    "print(\"Testing Precision:  {:.4f}\".format(precision_score_SVC))\n",
    "print(\"Testing Recall   :  {:.4f}\".format(recall_score_SVC))"
   ]
  },
  {
   "cell_type": "markdown",
   "metadata": {},
   "source": [
    "## XGBoost - Gradient Boosting"
   ]
  },
  {
   "cell_type": "code",
   "execution_count": 16,
   "metadata": {},
   "outputs": [
    {
     "name": "stdout",
     "output_type": "stream",
     "text": [
      "Training Features Shape: (700, 61)\n",
      "Training Target Shape: (700,)\n",
      "Testing Features Shape: (300, 61)\n",
      "Testing Target Shape: (300,)\n"
     ]
    }
   ],
   "source": [
    "print('Training Features Shape:', X_train.shape)\n",
    "print('Training Target Shape:', y_train.shape)\n",
    "print('Testing Features Shape:', X_test.shape)\n",
    "print('Testing Target Shape:', y_test.shape)"
   ]
  },
  {
   "cell_type": "code",
   "execution_count": 17,
   "metadata": {},
   "outputs": [
    {
     "name": "stdout",
     "output_type": "stream",
     "text": [
      "Best: 0.777143 using {'eval_metric': 'logloss', 'learning_rate': 0.01, 'max_depth': 3, 'min_child_weight': 5, 'n_estimators': 500, 'njobs': -1, 'nthread': 6, 'objective': 'binary:logistic', 'seed': 1337}\n"
     ]
    }
   ],
   "source": [
    "%%time\n",
    "xgb = XGBClassifier()\n",
    "\n",
    "parameters = {\n",
    " 'n_estimators':     [200,500,1000,2000],\n",
    " 'max_depth':        [3,5,7,10],\n",
    " 'min_child_weight': [1,3,5,10],\n",
    " 'learning_rate':    [0.01, 0.05, 0.075, 0.1, 0.15],\n",
    " 'seed':             [1337],\n",
    " 'objective':        ['binary:logistic'],\n",
    " 'nthread' :         [6],\n",
    " 'njobs':            [-1],\n",
    " 'eval_metric':      ['logloss']\n",
    "}\n",
    "\n",
    "\n",
    "xgb_classifier = GridSearchCV(xgb, parameters, cv=5)\n",
    "xgb_classifier = xgb_classifier.fit(X_train, y_train,\n",
    "                                    early_stopping_rounds=10,\n",
    "                                    eval_set=[(X_test, y_test)],\n",
    "                                    verbose=False)\n",
    "\n",
    "print(\"Best: %f using %s\" % (xgb_classifier.best_score_, xgb_classifier.best_params_))"
   ]
  },
  {
   "cell_type": "code",
   "execution_count": 18,
   "metadata": {},
   "outputs": [
    {
     "data": {
      "text/plain": [
       "XGBClassifier(base_score=0.5, booster=None, colsample_bylevel=1,\n",
       "              colsample_bynode=1, colsample_bytree=1, gamma=0, gpu_id=-1,\n",
       "              importance_type='gain', interaction_constraints=None,\n",
       "              learning_rate=0.01, max_delta_step=0, max_depth=3,\n",
       "              min_child_weight=5, missing=nan, monotone_constraints=None,\n",
       "              n_estimators=5, n_jobs=0, num_parallel_tree=1,\n",
       "              objective='binary:logistic', random_state=1337, reg_alpha=0,\n",
       "              reg_lambda=1, scale_pos_weight=1, seed=1337, subsample=1,\n",
       "              tree_method=None, validate_parameters=False, verbosity=None)"
      ]
     },
     "execution_count": 18,
     "metadata": {},
     "output_type": "execute_result"
    }
   ],
   "source": [
    "xg_model = XGBClassifier(eval_metric = 'logloss',\n",
    "                        n_estimators=5,\n",
    "                        learning_rate=0.01,\n",
    "                        max_depth = 3,\n",
    "                        min_child_weight = 5,\n",
    "                        seed = 1337,\n",
    "                        objective = 'binary:logistic')\n",
    "xg_model.fit(X_train, y_train, early_stopping_rounds=10,\n",
    "             eval_set=[(X_test, y_test)], verbose=False)"
   ]
  },
  {
   "cell_type": "code",
   "execution_count": 19,
   "metadata": {},
   "outputs": [
    {
     "name": "stdout",
     "output_type": "stream",
     "text": [
      "[[182  28]\n",
      " [ 57  33]]\n"
     ]
    }
   ],
   "source": [
    "y_pred = xg_model.predict(X_test)\n",
    "\n",
    "from sklearn.metrics import recall_score, classification_report, auc, roc_curve\n",
    "CM_XGB = confusion_matrix(y_test, y_pred)\n",
    "print(CM_XGB)"
   ]
  },
  {
   "cell_type": "code",
   "execution_count": 20,
   "metadata": {},
   "outputs": [
    {
     "name": "stdout",
     "output_type": "stream",
     "text": [
      "Testing Accuracy :  0.7167\n",
      "Testing F1-Score :  0.4371\n",
      "Testing Precision:  0.5410\n",
      "Testing Recall   :  0.3667\n"
     ]
    }
   ],
   "source": [
    "acc_XGB = accuracy_score(y_test, y_pred)\n",
    "f1_score_XGB = f1_score(y_test, y_pred)\n",
    "recall_score_XGB = recall_score(y_test, y_pred)\n",
    "precision_score_XGB = precision_score(y_test, y_pred)\n",
    "print(\"Testing Accuracy :  {:.4f}\".format(acc_XGB))\n",
    "print(\"Testing F1-Score :  {:.4f}\".format(f1_score_XGB))\n",
    "print(\"Testing Precision:  {:.4f}\".format(precision_score_XGB))\n",
    "print(\"Testing Recall   :  {:.4f}\".format(recall_score_XGB))"
   ]
  },
  {
   "cell_type": "markdown",
   "metadata": {},
   "source": [
    "## Decision Trees"
   ]
  },
  {
   "cell_type": "code",
   "execution_count": 11,
   "metadata": {},
   "outputs": [
    {
     "name": "stdout",
     "output_type": "stream",
     "text": [
      "Training Features Shape: (700, 61)\n",
      "Training Target Shape: (700,)\n",
      "Testing Features Shape: (300, 61)\n",
      "Testing Target Shape: (300,)\n"
     ]
    }
   ],
   "source": [
    "print('Training Features Shape:', X_train.shape)\n",
    "print('Training Target Shape:', y_train.shape)\n",
    "print('Testing Features Shape:', X_test.shape)\n",
    "print('Testing Target Shape:', y_test.shape)"
   ]
  },
  {
   "cell_type": "code",
   "execution_count": 12,
   "metadata": {},
   "outputs": [
    {
     "name": "stdout",
     "output_type": "stream",
     "text": [
      "Best: 0.745714 using {'criterion': 'entropy', 'max_depth': 5, 'max_features': 'log2', 'min_samples_split': 100, 'random_state': 1337}\n"
     ]
    }
   ],
   "source": [
    "%%time\n",
    "clf = DecisionTreeClassifier()\n",
    "\n",
    "parameters = {\n",
    " 'min_samples_split': [10,50,100,200,500],\n",
    " 'max_depth':         [3,5,7,10,20],\n",
    " 'max_features':      ['auto','sqrt','log2'],\n",
    " 'random_state':      [1337],\n",
    " 'criterion':         ['gini', 'entropy']\n",
    "}\n",
    "\n",
    "decision_tree_classifier = GridSearchCV(clf, parameters, cv=5)\n",
    "decision_tree_classifier = decision_tree_classifier.fit(X_train, y_train)\n",
    "\n",
    "print(\"Best: %f using %s\" % (decision_tree_classifier.best_score_, decision_tree_classifier.best_params_))"
   ]
  },
  {
   "cell_type": "code",
   "execution_count": 13,
   "metadata": {},
   "outputs": [],
   "source": [
    "clf_model = DecisionTreeClassifier(min_samples_split = 100,\n",
    "                                   max_depth = 5,\n",
    "                                   max_features = 'log2',\n",
    "                                   random_state = 1337,\n",
    "                                   criterion = 'entropy')\n",
    "clf_model = clf.fit(X_train, y_train)"
   ]
  },
  {
   "cell_type": "code",
   "execution_count": 14,
   "metadata": {},
   "outputs": [
    {
     "name": "stdout",
     "output_type": "stream",
     "text": [
      "[[144  66]\n",
      " [ 42  48]]\n"
     ]
    }
   ],
   "source": [
    "y_pred = clf_model.predict(X_test)\n",
    "\n",
    "\n",
    "from sklearn.metrics import recall_score, classification_report, auc, roc_curve\n",
    "CM_DT = confusion_matrix(y_test, y_pred)\n",
    "print(CM_DT)"
   ]
  },
  {
   "cell_type": "code",
   "execution_count": 15,
   "metadata": {},
   "outputs": [
    {
     "name": "stdout",
     "output_type": "stream",
     "text": [
      "Testing Accuracy :  0.6400\n",
      "Testing F1-Score :  0.4706\n",
      "Testing Precision:  0.4211\n",
      "Testing Recall   :  0.5333\n"
     ]
    }
   ],
   "source": [
    "acc_DT = accuracy_score(y_test, y_pred)\n",
    "f1_score_DT = f1_score(y_test, y_pred)\n",
    "recall_score_DT = recall_score(y_test, y_pred)\n",
    "precision_score_DT = precision_score(y_test, y_pred)\n",
    "print(\"Testing Accuracy :  {:.4f}\".format(acc_DT))\n",
    "print(\"Testing F1-Score :  {:.4f}\".format(f1_score_DT))\n",
    "print(\"Testing Precision:  {:.4f}\".format(precision_score_DT))\n",
    "print(\"Testing Recall   :  {:.4f}\".format(recall_score_DT))"
   ]
  },
  {
   "cell_type": "code",
   "execution_count": null,
   "metadata": {},
   "outputs": [],
   "source": []
  }
 ],
 "metadata": {
  "kernelspec": {
   "display_name": "Python 3",
   "language": "python",
   "name": "python3"
  },
  "language_info": {
   "codemirror_mode": {
    "name": "ipython",
    "version": 3
   },
   "file_extension": ".py",
   "mimetype": "text/x-python",
   "name": "python",
   "nbconvert_exporter": "python",
   "pygments_lexer": "ipython3",
   "version": "3.7.7"
  }
 },
 "nbformat": 4,
 "nbformat_minor": 4
}
